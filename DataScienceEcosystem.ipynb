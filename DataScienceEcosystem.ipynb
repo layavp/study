{
 "cells": [
  {
   "cell_type": "markdown",
   "id": "5a4ced47-bb55-41fa-b4f1-de295f32be57",
   "metadata": {},
   "source": [
    "<h1>Data Science Tools and Ecosystem</h1>"
   ]
  },
  {
   "cell_type": "markdown",
   "id": "c04a3c71-a7ef-4645-aa1a-5e81a4d77a46",
   "metadata": {},
   "source": [
    "In this notebook, Data Science Tools and Ecosystem are summarized"
   ]
  },
  {
   "cell_type": "markdown",
   "id": "d37de90f-05a1-4c7f-a411-e16e7140979e",
   "metadata": {},
   "source": [
    "<b>Objectives:<b>\n",
    "<ul>\n",
    "    <li>list popular languages that Data Scientists</li>\n",
    "    <li>list libraries used by Data Scientists</li>\n",
    "    <li>list Development open source tools </li>\n",
    "    <li>evaluating arithmetic expressions</li>\n",
    "</ul>\n"
   ]
  },
  {
   "cell_type": "markdown",
   "id": "8062f8fd-c88d-46a1-bd87-db4deda51649",
   "metadata": {},
   "source": [
    "<b> Some of the popular languages that Data Scientists use are: <b>\n",
    "<ol>\n",
    "    <li>Python</li>\n",
    "    <li>SQL</li>\n",
    "    <li>R</li>\n",
    "    <li>JavaScript</li>\n",
    "    <li>C/C++</li>\n",
    "</ol>"
   ]
  },
  {
   "cell_type": "markdown",
   "id": "99671a71-acc6-4256-b83f-bd1572a049e7",
   "metadata": {},
   "source": [
    "<b>Some of the commonly used libraries used by Data Scientists include:<b>\n",
    "<ol> \n",
    "    <li>Pandas</li>\n",
    "    <li>NumPy</li>\n",
    "    <LI>Matplotlib</LI>\n",
    "    <li>Seaborn</li>\n",
    "    <li>Scikit-learn</li>\n",
    "</ol>"
   ]
  },
  {
   "cell_type": "markdown",
   "id": "d95f2095-3839-40fc-8262-51fef7505f14",
   "metadata": {},
   "source": [
    "<b>Development open source tools used in Data Science:<b>"
   ]
  },
  {
   "cell_type": "markdown",
   "id": "759a6444-7d97-4ec4-8ead-192521055b07",
   "metadata": {},
   "source": [
    "|Data Science Tools|\n",
    "|------------------|\n",
    "|Jupyter|\n",
    "|Apache Zeppelin|\n",
    "|RStudio|\n",
    "|Spyder|"
   ]
  },
  {
   "cell_type": "markdown",
   "id": "d5e00d59-310f-45ec-8b44-657096b1dc03",
   "metadata": {},
   "source": [
    "<h3>Below are a few examples of evaluating arithmetic expressions in Python</h3>"
   ]
  },
  {
   "cell_type": "code",
   "execution_count": 9,
   "id": "209b2055-58b9-4088-8e71-feb58d553a1c",
   "metadata": {},
   "outputs": [
    {
     "data": {
      "text/plain": [
       "17"
      ]
     },
     "execution_count": 9,
     "metadata": {},
     "output_type": "execute_result"
    }
   ],
   "source": [
    "#This a simple arithmetic expression to mutiply then add integers\n",
    "\n",
    "(3*4)+5"
   ]
  },
  {
   "cell_type": "code",
   "execution_count": 10,
   "id": "7233daaf-7d6e-445a-8450-7847ee1c21b4",
   "metadata": {},
   "outputs": [
    {
     "data": {
      "text/plain": [
       "3.3333333333333335"
      ]
     },
     "execution_count": 10,
     "metadata": {},
     "output_type": "execute_result"
    }
   ],
   "source": [
    "#This will convert 200 minutes to hours by diving by 60\n",
    "\n",
    "200/60"
   ]
  },
  {
   "cell_type": "markdown",
   "id": "fd5781b0-6084-47a2-bb2f-0eefc603ff43",
   "metadata": {},
   "source": [
    "<h2>Author</h2>\n",
    "Laya"
   ]
  }
 ],
 "metadata": {
  "kernelspec": {
   "display_name": "Python 3 (ipykernel)",
   "language": "python",
   "name": "python3"
  },
  "language_info": {
   "codemirror_mode": {
    "name": "ipython",
    "version": 3
   },
   "file_extension": ".py",
   "mimetype": "text/x-python",
   "name": "python",
   "nbconvert_exporter": "python",
   "pygments_lexer": "ipython3",
   "version": "3.12.1"
  }
 },
 "nbformat": 4,
 "nbformat_minor": 5
}
